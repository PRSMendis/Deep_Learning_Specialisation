{
 "cells": [
  {
   "cell_type": "code",
   "execution_count": 8,
   "id": "38a94767",
   "metadata": {
    "scrolled": false
   },
   "outputs": [
    {
     "data": {
      "text/plain": [
       "(3, 6, 4, 1, 9, 6, 9)"
      ]
     },
     "execution_count": 8,
     "metadata": {},
     "output_type": "execute_result"
    }
   ],
   "source": [
    "def partition3(values):\n",
    "    assert 1 <= len(values) <= 20\n",
    "    assert all(1 <= v <= 30 for v in values)\n",
    "    \n",
    "    \n",
    "    return values\n",
    "partition3((3, 6, 4, 1, 9, 6, 9))"
   ]
  },
  {
   "cell_type": "code",
   "execution_count": 62,
   "id": "482f7530",
   "metadata": {},
   "outputs": [
    {
     "name": "stdout",
     "output_type": "stream",
     "text": [
      "[1, 1, 3, 4, 6, 6, 9, 9]\n"
     ]
    }
   ],
   "source": [
    "A = [n for n in (3, 6, 4, 1, 9, 6, 9, 1)]\n",
    "A.sort()\n",
    "print(A)"
   ]
  },
  {
   "cell_type": "code",
   "execution_count": 46,
   "id": "2d2c1ddc",
   "metadata": {},
   "outputs": [
    {
     "name": "stdout",
     "output_type": "stream",
     "text": [
      "test\n"
     ]
    }
   ],
   "source": [
    "l2 = []\n",
    "if l2:\n",
    "    print(yes)\n",
    "else:\n",
    "    print('test')"
   ]
  },
  {
   "cell_type": "code",
   "execution_count": 52,
   "id": "77b9528a",
   "metadata": {
    "scrolled": true
   },
   "outputs": [
    {
     "name": "stdout",
     "output_type": "stream",
     "text": [
      "9\n",
      "1 0\n",
      "1 1\n",
      "3 2\n",
      "4 3\n",
      "6 4\n",
      "6 5\n",
      "9 6\n",
      "9\n",
      "1 0\n",
      "1 1\n",
      "3 2\n",
      "4 3\n",
      "6 4\n",
      "6 5\n",
      "6\n",
      "1 0\n",
      "1 1\n",
      "3 2\n",
      "4 3\n",
      "6 4\n",
      "6\n",
      "1 0\n",
      "1 1\n",
      "3 2\n",
      "4 3\n",
      "4\n",
      "1 0\n",
      "1 1\n",
      "3 2\n",
      "3\n",
      "1 0\n",
      "1 1\n",
      "1\n",
      "1 0\n",
      "1\n"
     ]
    },
    {
     "data": {
      "text/plain": [
       "[]"
      ]
     },
     "execution_count": 52,
     "metadata": {},
     "output_type": "execute_result"
    }
   ],
   "source": [
    "import numpy as np\n",
    "def partition3(values):\n",
    "    assert 1 <= len(values) <= 20\n",
    "    assert all(1 <= v <= 30 for v in values)\n",
    "    \n",
    "    values = [n for n in values]\n",
    "    values.sort()\n",
    "    \n",
    "    n = 3\n",
    "    target = sum(values)/n\n",
    "    if target%1 !=0:\n",
    "        return 0\n",
    "    while len(values) != 0:\n",
    "        complement = values.pop()\n",
    "        print(complement)\n",
    "        for i, num in enumerate(values):\n",
    "            print(num,i)\n",
    "    \n",
    "    \n",
    "    \n",
    "    return values\n",
    "partition3((3, 6, 4, 1, 9, 6, 9, 1))"
   ]
  },
  {
   "cell_type": "markdown",
   "id": "a6ae5718",
   "metadata": {},
   "source": [
    "This problem can be divided, by taking the largers number, and checking if the subarray contains its complement with values / n"
   ]
  },
  {
   "cell_type": "markdown",
   "id": "43dbe26f",
   "metadata": {},
   "source": [
    "For example, in the first pass we grab 9, and check if in the remaining array there is a possible way to get 13"
   ]
  },
  {
   "cell_type": "code",
   "execution_count": 53,
   "id": "42154671",
   "metadata": {},
   "outputs": [
    {
     "name": "stdout",
     "output_type": "stream",
     "text": [
      "9\n",
      "1 0\n",
      "1 1\n",
      "3 2\n",
      "4 3\n",
      "6 4\n",
      "6 5\n",
      "9 6\n",
      "9\n",
      "1 0\n",
      "1 1\n",
      "3 2\n",
      "4 3\n",
      "6 4\n",
      "6 5\n",
      "6\n",
      "1 0\n",
      "1 1\n",
      "3 2\n",
      "4 3\n",
      "6 4\n",
      "6\n",
      "1 0\n",
      "1 1\n",
      "3 2\n",
      "4 3\n",
      "4\n",
      "1 0\n",
      "1 1\n",
      "3 2\n",
      "3\n",
      "1 0\n",
      "1 1\n",
      "1\n",
      "1 0\n",
      "1\n"
     ]
    }
   ],
   "source": [
    "import numpy as np\n",
    "def partition3(values):\n",
    "    assert 1 <= len(values) <= 20\n",
    "    assert all(1 <= v <= 30 for v in values)\n",
    "    \n",
    "    values = [n for n in values]\n",
    "    values.sort()\n",
    "    \n",
    "    '''\n",
    "    What we need to do, is pop from the list, take its complement and search the sub array for ways to make that up\n",
    "    \n",
    "    '''\n",
    "    \n",
    "    n = 3\n",
    "    target = sum(values)/n\n",
    "    if target%1 !=0:\n",
    "        return 0\n",
    "    while len(values) != 0:\n",
    "        complement = values.pop()\n",
    "        print(complement)\n",
    "        for i, num in enumerate(values):\n",
    "            print(num,i)\n",
    "            \n",
    "def parter(target, array):\n",
    "    complement = array.pop()\n",
    "    if target == complement:\n",
    "        return target\n",
    "    else:\n",
    "        parter(complement, array)\n",
    "            \n",
    "    \n",
    "    \n",
    "    \n",
    "    return values\n",
    "partition3((3, 6, 4, 1, 9, 6, 9, 1))\n"
   ]
  },
  {
   "cell_type": "code",
   "execution_count": 56,
   "id": "091f01db",
   "metadata": {},
   "outputs": [
    {
     "name": "stdout",
     "output_type": "stream",
     "text": [
      "9\n",
      "found: 6, 6\n",
      "4\n",
      "found: 1, 1\n"
     ]
    }
   ],
   "source": [
    "import numpy as np\n",
    "def partition3(values):\n",
    "    assert 1 <= len(values) <= 20\n",
    "    assert all(1 <= v <= 30 for v in values)\n",
    "    \n",
    "    values = [n for n in values]\n",
    "    values.sort()\n",
    "    \n",
    "    '''\n",
    "    What we need to do, is pop from the list, take its complement and search the sub array for ways to make that up\n",
    "    \n",
    "    '''\n",
    "    \n",
    "    n = 3\n",
    "    target = sum(values)/n\n",
    "    if target%1 !=0:\n",
    "        return 0\n",
    "    while len(values) != 0:\n",
    "        complement = values.pop()\n",
    "        print(complement)\n",
    "        parter(target-complement, values)\n",
    "            \n",
    "def parter(target, array):\n",
    "    complement = array.pop()\n",
    "    if target == complement:\n",
    "        print(f'found: {target}, {complement}')\n",
    "        return target\n",
    "    else:\n",
    "        parter(complement, array)\n",
    "partition3((3, 6, 4, 1, 9, 6, 9, 1))\n"
   ]
  },
  {
   "cell_type": "code",
   "execution_count": 98,
   "id": "b59d6fb7",
   "metadata": {},
   "outputs": [
    {
     "name": "stdout",
     "output_type": "stream",
     "text": [
      "[1, 1, 3, 4, 6, 6, 9, 9]\n",
      "[0 0 0 0 0 0 0 0 0]\n"
     ]
    }
   ],
   "source": [
    "import numpy as np\n",
    "def maker(A):\n",
    "    A = [n for n in A]\n",
    "    A.sort()\n",
    "    print(A)\n",
    "    \n",
    "    B = np.zeros(len(A)+1, dtype = int)\n",
    "    return B\n",
    "B = maker((3, 6, 4, 1, 9, 6, 9, 1))\n",
    "print(B)"
   ]
  },
  {
   "cell_type": "code",
   "execution_count": null,
   "id": "cad84266",
   "metadata": {},
   "outputs": [],
   "source": []
  },
  {
   "cell_type": "code",
   "execution_count": null,
   "id": "0232c29b",
   "metadata": {},
   "outputs": [],
   "source": []
  },
  {
   "cell_type": "code",
   "execution_count": null,
   "id": "4a9f8fcd",
   "metadata": {},
   "outputs": [],
   "source": []
  },
  {
   "cell_type": "code",
   "execution_count": 113,
   "id": "b9ba126d",
   "metadata": {},
   "outputs": [
    {
     "name": "stdout",
     "output_type": "stream",
     "text": [
      "0\n"
     ]
    }
   ],
   "source": [
    "import sys\n",
    "import itertools\n",
    "def partition3(A, n, sum, p):\n",
    "    sum1 = [[0 for i in range(sum+1)] for j in range(n+1)]\n",
    "    for i in range(0, n+1):\n",
    "        sum1[i][0] = (i+1)*n\n",
    "\n",
    "    for i in range(1, n+1):\n",
    "        for j in range(1, sum+1):\n",
    "            if sum1[i-1][j] >0 and j != sum:\n",
    "                sum1[i][j] = sum1[i-1][j]\n",
    "            if A[i-1] <= j:\n",
    "                if sum1[i-1][j-A[i-1]] > 0:\n",
    "                    sum1[i][j] = sum1[i-1][j-A[i-1]] + 1\n",
    "\n",
    "    diff = 0\n",
    "    for i in range(1, n+1):\n",
    "        if sum1[i][sum] != sum1[i-1][sum]:\n",
    "            diff += 1\n",
    "    if diff >= 3:\n",
    "        return 1\n",
    "    else:\n",
    "        return 0\n",
    "\n",
    "\n",
    "if __name__ == '__main__':\n",
    "    input = sys.stdin.read()\n",
    "    n = 3\n",
    "    A = (1,2,3,3)\n",
    "    sum = 0\n",
    "    for i in A:\n",
    "        sum += i\n",
    "    if sum % 3 == 0:\n",
    "        sum = int(sum / 3)\n",
    "        print(partition3(A, n, sum, 1))\n",
    "    else:\n",
    "        print('0')"
   ]
  },
  {
   "cell_type": "code",
   "execution_count": 119,
   "id": "1ff9b0bb",
   "metadata": {},
   "outputs": [],
   "source": [
    "def partition3(A):\n",
    "    print(n)\n",
    "    sum1 = [[0 for i in range(sum+1)] for j in range(n+1)]\n",
    "    for i in range(0, n+1):\n",
    "        sum1[i][0] = (i+1)*n\n",
    "\n",
    "    for i in range(1, n+1):\n",
    "        for j in range(1, sum+1):\n",
    "            if sum1[i-1][j] >0 and j != sum:\n",
    "                sum1[i][j] = sum1[i-1][j]\n",
    "            if A[i-1] <= j:\n",
    "                if sum1[i-1][j-A[i-1]] > 0:\n",
    "                    sum1[i][j] = sum1[i-1][j-A[i-1]] + 1\n",
    "\n",
    "    diff = 0\n",
    "    for i in range(1, n+1):\n",
    "        if sum1[i][sum] != sum1[i-1][sum]:\n",
    "            diff += 1\n",
    "    if diff >= 3:\n",
    "        return 1\n",
    "    else:\n",
    "        return 0"
   ]
  },
  {
   "cell_type": "code",
   "execution_count": 120,
   "id": "9f428ee8",
   "metadata": {},
   "outputs": [
    {
     "name": "stdout",
     "output_type": "stream",
     "text": [
      "3\n"
     ]
    },
    {
     "data": {
      "text/plain": [
       "0"
      ]
     },
     "execution_count": 120,
     "metadata": {},
     "output_type": "execute_result"
    }
   ],
   "source": [
    "partition3((1,1,1))"
   ]
  },
  {
   "cell_type": "code",
   "execution_count": null,
   "id": "c7a4a2e7",
   "metadata": {},
   "outputs": [],
   "source": []
  }
 ],
 "metadata": {
  "kernelspec": {
   "display_name": "Python 3",
   "language": "python",
   "name": "python3"
  },
  "language_info": {
   "codemirror_mode": {
    "name": "ipython",
    "version": 3
   },
   "file_extension": ".py",
   "mimetype": "text/x-python",
   "name": "python",
   "nbconvert_exporter": "python",
   "pygments_lexer": "ipython3",
   "version": "3.8.8"
  }
 },
 "nbformat": 4,
 "nbformat_minor": 5
}
